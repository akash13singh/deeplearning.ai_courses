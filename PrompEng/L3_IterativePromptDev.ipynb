{
 "cells": [
  {
   "cell_type": "markdown",
   "id": "4720e4ff-217c-4a5a-892f-a1b402ed365e",
   "metadata": {},
   "source": [
    "# Iterative Prompt Develelopment\n",
    "\n",
    "### - Try something\n",
    "### - Analyze where the result does not work\n",
    "### - Clarify instructions\n",
    "### - Give more time to think\n",
    "### - Refine prompts with a batch of examples\n"
   ]
  },
  {
   "cell_type": "markdown",
   "id": "4ca8da4d-43df-4157-a0e1-bd973c90d895",
   "metadata": {},
   "source": [
    "In this lesson, you'll iteratively analyze and refine your prompts to generate marketing copy from a product fact sheet.\n",
    "\n",
    "#### Setup"
   ]
  },
  {
   "cell_type": "code",
   "execution_count": 1,
   "id": "ebf1c478-5598-4808-b9bd-a6558084d7ca",
   "metadata": {},
   "outputs": [],
   "source": [
    "import openai\n",
    "import os\n",
    "\n",
    "from dotenv import load_dotenv, find_dotenv\n",
    "_ = load_dotenv(find_dotenv()) # read local .env file\n",
    "\n",
    "openai.api_key  = os.getenv('OPENAI_API_KEY')"
   ]
  },
  {
   "cell_type": "code",
   "execution_count": 2,
   "id": "ede1a66b-e606-4eda-a3c6-2c5e5be26e71",
   "metadata": {},
   "outputs": [],
   "source": [
    "def get_completion(prompt, model=\"gpt-3.5-turbo\"):\n",
    "    messages = [{\"role\": \"user\", \"content\": prompt}]\n",
    "    response = openai.ChatCompletion.create(\n",
    "        model=model,\n",
    "        messages=messages,\n",
    "        temperature=0, # this is the degree of randomness of the model's output\n",
    "    )\n",
    "    return response.choices[0].message[\"content\"]"
   ]
  },
  {
   "cell_type": "markdown",
   "id": "4470d1ee-f262-4525-9cc5-c62938f707d7",
   "metadata": {},
   "source": [
    "## Generate a marketing product description from a product fact sheet"
   ]
  },
  {
   "cell_type": "code",
   "execution_count": 3,
   "id": "51ca4b3d-8fa5-4750-b094-e1e1571f23a2",
   "metadata": {},
   "outputs": [],
   "source": [
    "fact_sheet_chair = \"\"\"\n",
    "OVERVIEW\n",
    "- Part of a beautiful family of mid-century inspired office furniture, \n",
    "including filing cabinets, desks, bookcases, meeting tables, and more.\n",
    "- Several options of shell color and base finishes.\n",
    "- Available with plastic back and front upholstery (SWC-100) \n",
    "or full upholstery (SWC-110) in 10 fabric and 6 leather options.\n",
    "- Base finish options are: stainless steel, matte black, \n",
    "gloss white, or chrome.\n",
    "- Chair is available with or without armrests.\n",
    "- Suitable for home or business settings.\n",
    "- Qualified for contract use.\n",
    "\n",
    "CONSTRUCTION\n",
    "- 5-wheel plastic coated aluminum base.\n",
    "- Pneumatic chair adjust for easy raise/lower action.\n",
    "\n",
    "DIMENSIONS\n",
    "- WIDTH 53 CM | 20.87”\n",
    "- DEPTH 51 CM | 20.08”\n",
    "- HEIGHT 80 CM | 31.50”\n",
    "- SEAT HEIGHT 44 CM | 17.32”\n",
    "- SEAT DEPTH 41 CM | 16.14”\n",
    "\n",
    "OPTIONS\n",
    "- Soft or hard-floor caster options.\n",
    "- Two choices of seat foam densities: \n",
    " medium (1.8 lb/ft3) or high (2.8 lb/ft3)\n",
    "- Armless or 8 position PU armrests \n",
    "\n",
    "MATERIALS\n",
    "SHELL BASE GLIDER\n",
    "- Cast Aluminum with modified nylon PA6/PA66 coating.\n",
    "- Shell thickness: 10 mm.\n",
    "SEAT\n",
    "- HD36 foam\n",
    "\n",
    "COUNTRY OF ORIGIN\n",
    "- Italy\n",
    "\"\"\""
   ]
  },
  {
   "cell_type": "code",
   "execution_count": 4,
   "id": "37ed9b79-1155-443a-8f1b-9bf1d5e35f8f",
   "metadata": {},
   "outputs": [
    {
     "name": "stdout",
     "output_type": "stream",
     "text": [
      "Introducing our stunning and versatile mid-century inspired office chair, the perfect addition to any home or business setting. This chair is part of a beautiful family of office furniture, including filing cabinets, desks, bookcases, meeting tables, and more, allowing you to create a cohesive and stylish workspace.\n",
      "\n",
      "One of the standout features of this chair is the wide range of customization options available. You can choose from several shell colors and base finishes, ensuring that the chair perfectly complements your existing decor. Additionally, you have the choice between plastic back and front upholstery or full upholstery in a variety of fabric and leather options, allowing you to create a chair that is both comfortable and visually appealing.\n",
      "\n",
      "The chair is available with or without armrests, giving you the flexibility to choose the option that best suits your needs. The base finish options include stainless steel, matte black, gloss white, or chrome, allowing you to further personalize the chair to your liking.\n",
      "\n",
      "Constructed with durability and functionality in mind, this chair features a 5-wheel plastic coated aluminum base, ensuring stability and ease of movement. The pneumatic chair adjust allows for easy raise and lower action, allowing you to find the perfect height for maximum comfort.\n",
      "\n",
      "In terms of dimensions, the chair measures 53 cm in width, 51 cm in depth, and 80 cm in height. The seat height is 44 cm, and the seat depth is 41 cm, providing ample space for comfortable seating.\n",
      "\n",
      "We understand that every workspace is unique, which is why we offer a range of options to further customize your chair. You can choose between soft or hard-floor caster options, ensuring that the chair glides smoothly on any surface. Additionally, you have the choice between two seat foam densities: medium (1.8 lb/ft3) or high (2.8 lb/ft3), allowing you to select the level of support that suits your preferences. The chair is also available with armless or 8 position PU armrests, providing additional comfort and versatility.\n",
      "\n",
      "When it comes to materials, this chair is crafted with the utmost attention to quality. The shell base glider is made of cast aluminum with a modified nylon PA6/PA66 coating, ensuring durability and longevity. The shell thickness is 10 mm, further enhancing the chair's sturdiness. The seat is made of HD36 foam, providing a comfortable and supportive seating experience.\n",
      "\n",
      "Finally, this chair is proudly made in Italy, a country renowned for its craftsmanship and attention to detail. With its combination of style, functionality, and customization options, this chair is the perfect choice for those seeking a high-quality and visually appealing seating solution.\n",
      "\n",
      "Elevate your workspace with our mid-century inspired office chair and experience the perfect blend of style and comfort.\n"
     ]
    }
   ],
   "source": [
    "prompt = f\"\"\"\n",
    "Your task is to help a marketing team create a description for a retail website of a product based on a technical fact sheet.\n",
    "\n",
    "Write a product description based on the information provided in the technical specifications delimited by triple backticks.\n",
    "\n",
    "Technical specifications: ```{fact_sheet_chair}```\n",
    "\"\"\"\n",
    "response = get_completion(prompt)\n",
    "print(response)\n"
   ]
  },
  {
   "cell_type": "markdown",
   "id": "ec6074d1-8caa-4900-8961-f8dbd1498956",
   "metadata": {},
   "source": [
    "## Issue 1: The text is too long \n",
    "- Limit the number of words/sentences/characters."
   ]
  },
  {
   "cell_type": "code",
   "execution_count": 8,
   "id": "2245d519-08d2-459d-a86d-5b3941125a43",
   "metadata": {},
   "outputs": [
    {
     "name": "stdout",
     "output_type": "stream",
     "text": [
      "Introducing our mid-century inspired office chair, part of a beautiful furniture collection. With various color and finish options, it can be customized to suit any space. Choose between plastic or full upholstery, and select from fabric or leather options. Suitable for home or business use. Made in Italy.\n"
     ]
    }
   ],
   "source": [
    "prompt = f\"\"\"\n",
    "Your task is to help a marketing team create a description for a retail website of a product based on a technical fact sheet.\n",
    "\n",
    "Write a product description based on the information provided in the technical specifications delimited by triple backticks.\n",
    "\n",
    "Use at most 50 words.\n",
    "\n",
    "Technical specifications: ```{fact_sheet_chair}```\n",
    "\"\"\"\n",
    "response = get_completion(prompt)\n",
    "print(response)\n",
    " "
   ]
  },
  {
   "cell_type": "markdown",
   "id": "168e306d-fc2d-4031-b215-9d4f8a36a88c",
   "metadata": {},
   "source": [
    "## Issue 2. Text focuses on the wrong details\n",
    "##### Ask it to focus on the aspects that are relevant to the intended audience."
   ]
  },
  {
   "cell_type": "code",
   "execution_count": 10,
   "id": "def90dcb-31c9-4310-9569-95b733d7cbee",
   "metadata": {},
   "outputs": [
    {
     "name": "stdout",
     "output_type": "stream",
     "text": [
      "Introducing our mid-century inspired office chair, part of a beautiful furniture collection. With various shell colors and base finishes, it offers versatility for any setting. Choose between plastic or full upholstery in a range of fabric and leather options. The chair features a durable aluminum base and pneumatic chair adjustment for easy height customization. Made in Italy.\n"
     ]
    }
   ],
   "source": [
    "prompt = f\"\"\"\n",
    "Your task is to help a marketing team create a \n",
    "description for a retail website of a product based \n",
    "on a technical fact sheet.\n",
    "\n",
    "Write a product description based on the information \n",
    "provided in the technical specifications delimited by \n",
    "triple backticks.\n",
    "\n",
    "The description is intended for furniture retailers, \n",
    "so should be technical in nature and focus on the \n",
    "materials the product is constructed from.\n",
    "\n",
    "Use at most 50 words.\n",
    "\n",
    "Technical specifications: ```{fact_sheet_chair}```\n",
    "\"\"\"\n",
    "response = get_completion(prompt)\n",
    "print(response)"
   ]
  },
  {
   "cell_type": "markdown",
   "id": "3709da06-5407-4268-8000-1b3d2498ed98",
   "metadata": {},
   "source": [
    "#### Response is 57 words instead of 50. \n",
    "##### LLMs are not precise when it comes to word count. \n",
    "##### It is better to use number of sentences. \n",
    "##### Number of characters is also good since LLMs operate at token level.\n"
   ]
  },
  {
   "cell_type": "code",
   "execution_count": 11,
   "id": "946aa660-3c33-4ae1-9b9d-acaae4a74dac",
   "metadata": {},
   "outputs": [
    {
     "data": {
      "text/plain": [
       "57"
      ]
     },
     "execution_count": 11,
     "metadata": {},
     "output_type": "execute_result"
    }
   ],
   "source": [
    "len(response.split(\" \"))"
   ]
  },
  {
   "cell_type": "code",
   "execution_count": 12,
   "id": "c53973f9-0046-4c7b-a5c9-0ddb67b1ace2",
   "metadata": {},
   "outputs": [
    {
     "name": "stdout",
     "output_type": "stream",
     "text": [
      "Introducing our mid-century inspired office chair, part of a stunning collection of furniture designed for both home and business settings. With a range of shell colors and base finishes to choose from, this chair offers versatility and style. Constructed with a 5-wheel plastic coated aluminum base and a pneumatic chair adjust for easy raise/lower action, this chair is not only visually appealing but also functional. Made in Italy, this chair is crafted with high-quality materials, including a cast aluminum shell with a modified nylon coating and a comfortable HD36 foam seat.\n"
     ]
    }
   ],
   "source": [
    "prompt = f\"\"\"\n",
    "Your task is to help a marketing team create a \n",
    "description for a retail website of a product based \n",
    "on a technical fact sheet.\n",
    "\n",
    "Write a product description based on the information \n",
    "provided in the technical specifications delimited by \n",
    "triple backticks.\n",
    "\n",
    "The description is intended for furniture retailers, \n",
    "so should be technical in nature and focus on the \n",
    "materials the product is constructed from.\n",
    "\n",
    "Use at most 3 sentences.\n",
    "\n",
    "Technical specifications: ```{fact_sheet_chair}```\n",
    "\"\"\"\n",
    "response = get_completion(prompt)\n",
    "print(response)"
   ]
  },
  {
   "cell_type": "code",
   "execution_count": 13,
   "id": "785f099f-62f8-4f9a-9dab-c700a8d3b0d2",
   "metadata": {},
   "outputs": [
    {
     "data": {
      "text/plain": [
       "['Introducing our mid-century inspired office chair, part of a stunning collection of furniture designed for both home and business settings',\n",
       " ' With a range of shell colors and base finishes to choose from, this chair offers versatility and style',\n",
       " ' Constructed with a 5-wheel plastic coated aluminum base and a pneumatic chair adjust for easy raise/lower action, this chair is not only visually appealing but also functional',\n",
       " ' Made in Italy, this chair is crafted with high-quality materials, including a cast aluminum shell with a modified nylon coating and a comfortable HD36 foam seat',\n",
       " '']"
      ]
     },
     "execution_count": 13,
     "metadata": {},
     "output_type": "execute_result"
    }
   ],
   "source": [
    "response.split(\".\")"
   ]
  },
  {
   "cell_type": "code",
   "execution_count": 21,
   "id": "9f9b8b37-bf74-4c5f-bcbf-bd4dae488589",
   "metadata": {},
   "outputs": [
    {
     "name": "stdout",
     "output_type": "stream",
     "text": [
      "Introducing our mid-century inspired office chair, perfect for both home and business settings. Constructed with a durable cast aluminum shell and a 5-wheel plastic coated aluminum base for easy mobility. Choose from a variety of shell colors and base finishes, and opt for plastic or full upholstery in fabric or leather. With adjustable height and optional armrests, this chair offers comfort and versatility. Made in Italy with attention to detail and quality.\n"
     ]
    }
   ],
   "source": [
    "prompt = f\"\"\"\n",
    "Your task is to help a marketing team create a \n",
    "description for a retail website of a product based \n",
    "on a technical fact sheet.\n",
    "\n",
    "Write a product description based on the information \n",
    "provided in the technical specifications delimited by \n",
    "triple backticks.\n",
    "\n",
    "The description is intended for furniture retailers, \n",
    "so should be technical in nature and focus on the \n",
    "materials the product is constructed from.\n",
    "\n",
    "Use at most 400 characters.\n",
    "\n",
    "Technical specifications: ```{fact_sheet_chair}```\n",
    "\"\"\"\n",
    "response = get_completion(prompt)\n",
    "print(response)"
   ]
  },
  {
   "cell_type": "code",
   "execution_count": 22,
   "id": "274bb799-e593-4cc2-88d1-b403aab05c96",
   "metadata": {},
   "outputs": [
    {
     "data": {
      "text/plain": [
       "463"
      ]
     },
     "execution_count": 22,
     "metadata": {},
     "output_type": "execute_result"
    }
   ],
   "source": [
    "len(response)"
   ]
  },
  {
   "cell_type": "markdown",
   "id": "adfbb5a0-c2d4-401b-af83-f8a1ef4a1f98",
   "metadata": {},
   "source": [
    "##### Add product id."
   ]
  },
  {
   "cell_type": "code",
   "execution_count": 24,
   "id": "c427cd05-3b23-4286-8522-4a7ac0bc869a",
   "metadata": {},
   "outputs": [
    {
     "name": "stdout",
     "output_type": "stream",
     "text": [
      "Introducing our mid-century inspired office chair, part of a beautiful family of furniture. This chair offers a range of options, including different shell colors and base finishes. Choose between plastic or full upholstery in various fabric and leather options. The chair is constructed with a 5-wheel plastic coated aluminum base and features a pneumatic chair adjust for easy raise/lower action. With its sleek design and multiple customization options, this chair is suitable for both home and business settings. Made in Italy.\n",
      "\n",
      "Product IDs: SWC-100, SWC-110\n"
     ]
    }
   ],
   "source": [
    "prompt = f\"\"\"\n",
    "Your task is to help a marketing team create a \n",
    "description for a retail website of a product based \n",
    "on a technical fact sheet.\n",
    "\n",
    "Write a product description based on the information \n",
    "provided in the technical specifications delimited by \n",
    "triple backticks.\n",
    "\n",
    "The description is intended for furniture retailers, \n",
    "so should be technical in nature and focus on the \n",
    "materials the product is constructed from.\n",
    "\n",
    "At the end of the description, include every 7-character \n",
    "Product ID in the technical specification.\n",
    "\n",
    "Use at most 50 words.\n",
    "\n",
    "Technical specifications: ```{fact_sheet_chair}```\n",
    "\"\"\"\n",
    "response = get_completion(prompt)\n",
    "print(response)"
   ]
  },
  {
   "cell_type": "markdown",
   "id": "e4ba1de9-8baf-406c-bbc5-6437c4679241",
   "metadata": {},
   "source": [
    "## Issue 3. Description needs a table of dimensions\n",
    "##### Ask it to extract information and organize it in a table.\n",
    "##### Output format is HTML"
   ]
  },
  {
   "cell_type": "code",
   "execution_count": 25,
   "id": "1def1ef9-69c5-4618-93a8-0d3ac8dcf027",
   "metadata": {},
   "outputs": [
    {
     "name": "stdout",
     "output_type": "stream",
     "text": [
      "<div>\n",
      "  <h2>Product Description</h2>\n",
      "  <p>\n",
      "    The SWC-100/110 office chair is part of a beautiful family of mid-century inspired furniture designed for both home and business settings. This chair is perfect for creating a stylish and functional workspace. It is available in various shell colors and base finishes, allowing you to customize it to match your existing decor. The chair is also available with or without armrests, providing flexibility and comfort options.\n",
      "  </p>\n",
      "  <p>\n",
      "    The SWC-100/110 office chair is constructed with high-quality materials to ensure durability and longevity. The 5-wheel plastic coated aluminum base provides stability and mobility, allowing you to move freely around your workspace. The pneumatic chair adjustment feature makes it easy to raise or lower the chair to your desired height, providing optimal comfort and support.\n",
      "  </p>\n",
      "  <p>\n",
      "    The seat of the SWC-100/110 office chair is made with HD36 foam, which offers a comfortable and supportive seating experience. The chair is available with two choices of seat foam densities: medium (1.8 lb/ft3) or high (2.8 lb/ft3), allowing you to choose the level of firmness that suits your preference.\n",
      "  </p>\n",
      "  <p>\n",
      "    The SWC-100/110 office chair is designed and manufactured in Italy, ensuring the highest quality craftsmanship. It is qualified for contract use, making it suitable for commercial environments as well.\n",
      "  </p>\n",
      "  <p>\n",
      "    Product ID: SWC-100/110\n",
      "  </p>\n",
      "</div>\n",
      "\n",
      "<table>\n",
      "  <caption>Product Dimensions</caption>\n",
      "  <tr>\n",
      "    <th>Dimension</th>\n",
      "    <th>Measurement (inches)</th>\n",
      "  </tr>\n",
      "  <tr>\n",
      "    <td>Width</td>\n",
      "    <td>20.87\"</td>\n",
      "  </tr>\n",
      "  <tr>\n",
      "    <td>Depth</td>\n",
      "    <td>20.08\"</td>\n",
      "  </tr>\n",
      "  <tr>\n",
      "    <td>Height</td>\n",
      "    <td>31.50\"</td>\n",
      "  </tr>\n",
      "  <tr>\n",
      "    <td>Seat Height</td>\n",
      "    <td>17.32\"</td>\n",
      "  </tr>\n",
      "  <tr>\n",
      "    <td>Seat Depth</td>\n",
      "    <td>16.14\"</td>\n",
      "  </tr>\n",
      "</table>\n"
     ]
    }
   ],
   "source": [
    "prompt = f\"\"\"\n",
    "Your task is to help a marketing team create a description for a retail website of a product based on a technical fact sheet.\n",
    "\n",
    "Write a product description based on the information provided in the technical specifications delimited by triple backticks.\n",
    "\n",
    "The description is intended for furniture retailers, so should be technical in nature and focus on the materials the product is constructed from.\n",
    "\n",
    "At the end of the description, include every 7-character Product ID in the technical specification.\n",
    "\n",
    "After the description, include a table that gives the product's dimensions. The table should have two columns.In the first column include the name of the dimension. In the second column include the measurements in inches only.\n",
    "\n",
    "Give the table the title 'Product Dimensions'.\n",
    "\n",
    "Format everything as HTML that can be used in a website. Place the description in a <div> element.\n",
    "\n",
    "Technical specifications: ```{fact_sheet_chair}```\n",
    "\"\"\"\n",
    "\n",
    "response = get_completion(prompt)\n",
    "print(response)"
   ]
  },
  {
   "cell_type": "markdown",
   "id": "373d6941-835a-4003-9a53-8aad2dbaf588",
   "metadata": {},
   "source": [
    "## Load Python libraries to view HTML"
   ]
  },
  {
   "cell_type": "code",
   "execution_count": 26,
   "id": "323f7d97-9588-41a5-87a8-4231a17bb342",
   "metadata": {},
   "outputs": [],
   "source": [
    "from IPython.display import display, HTML"
   ]
  },
  {
   "cell_type": "code",
   "execution_count": 27,
   "id": "dbf6e707-d51b-44d0-9df6-1f5a0e36a779",
   "metadata": {},
   "outputs": [
    {
     "data": {
      "text/html": [
       "<div>\n",
       "  <h2>Product Description</h2>\n",
       "  <p>\n",
       "    The SWC-100/110 office chair is part of a beautiful family of mid-century inspired furniture designed for both home and business settings. This chair is perfect for creating a stylish and functional workspace. It is available in various shell colors and base finishes, allowing you to customize it to match your existing decor. The chair is also available with or without armrests, providing flexibility and comfort options.\n",
       "  </p>\n",
       "  <p>\n",
       "    The SWC-100/110 office chair is constructed with high-quality materials to ensure durability and longevity. The 5-wheel plastic coated aluminum base provides stability and mobility, allowing you to move freely around your workspace. The pneumatic chair adjustment feature makes it easy to raise or lower the chair to your desired height, providing optimal comfort and support.\n",
       "  </p>\n",
       "  <p>\n",
       "    The seat of the SWC-100/110 office chair is made with HD36 foam, which offers a comfortable and supportive seating experience. The chair is available with two choices of seat foam densities: medium (1.8 lb/ft3) or high (2.8 lb/ft3), allowing you to choose the level of firmness that suits your preference.\n",
       "  </p>\n",
       "  <p>\n",
       "    The SWC-100/110 office chair is designed and manufactured in Italy, ensuring the highest quality craftsmanship. It is qualified for contract use, making it suitable for commercial environments as well.\n",
       "  </p>\n",
       "  <p>\n",
       "    Product ID: SWC-100/110\n",
       "  </p>\n",
       "</div>\n",
       "\n",
       "<table>\n",
       "  <caption>Product Dimensions</caption>\n",
       "  <tr>\n",
       "    <th>Dimension</th>\n",
       "    <th>Measurement (inches)</th>\n",
       "  </tr>\n",
       "  <tr>\n",
       "    <td>Width</td>\n",
       "    <td>20.87\"</td>\n",
       "  </tr>\n",
       "  <tr>\n",
       "    <td>Depth</td>\n",
       "    <td>20.08\"</td>\n",
       "  </tr>\n",
       "  <tr>\n",
       "    <td>Height</td>\n",
       "    <td>31.50\"</td>\n",
       "  </tr>\n",
       "  <tr>\n",
       "    <td>Seat Height</td>\n",
       "    <td>17.32\"</td>\n",
       "  </tr>\n",
       "  <tr>\n",
       "    <td>Seat Depth</td>\n",
       "    <td>16.14\"</td>\n",
       "  </tr>\n",
       "</table>"
      ],
      "text/plain": [
       "<IPython.core.display.HTML object>"
      ]
     },
     "metadata": {},
     "output_type": "display_data"
    }
   ],
   "source": [
    "display(HTML(response))"
   ]
  },
  {
   "cell_type": "code",
   "execution_count": null,
   "id": "8ed1d9a3-293f-4980-a327-3c27a1ea23ee",
   "metadata": {},
   "outputs": [],
   "source": []
  }
 ],
 "metadata": {
  "kernelspec": {
   "display_name": "Python 3 (ipykernel)",
   "language": "python",
   "name": "python3"
  },
  "language_info": {
   "codemirror_mode": {
    "name": "ipython",
    "version": 3
   },
   "file_extension": ".py",
   "mimetype": "text/x-python",
   "name": "python",
   "nbconvert_exporter": "python",
   "pygments_lexer": "ipython3",
   "version": "3.11.2"
  }
 },
 "nbformat": 4,
 "nbformat_minor": 5
}
